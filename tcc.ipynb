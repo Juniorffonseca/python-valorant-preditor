{
  "nbformat": 4,
  "nbformat_minor": 0,
  "metadata": {
    "colab": {
      "provenance": [],
      "authorship_tag": "ABX9TyNE5zLZ21BMKZM+DbI/QbK4",
      "include_colab_link": true
    },
    "kernelspec": {
      "name": "python3",
      "display_name": "Python 3"
    },
    "language_info": {
      "name": "python"
    }
  },
  "cells": [
    {
      "cell_type": "markdown",
      "metadata": {
        "id": "view-in-github",
        "colab_type": "text"
      },
      "source": [
        "<a href=\"https://colab.research.google.com/github/Juniorffonseca/python-valorant-preditor/blob/main/tcc.ipynb\" target=\"_parent\"><img src=\"https://colab.research.google.com/assets/colab-badge.svg\" alt=\"Open In Colab\"/></a>"
      ]
    },
    {
      "cell_type": "markdown",
      "source": [
        "Fazendo meu projeto do TCC, que foi feito em R, na linguagem Python.\n",
        "O projeto consiste em usar redes neurais para prever resultado de partidas do cenário profissional de Valorant\n"
      ],
      "metadata": {
        "id": "qJr7-rIdaL38"
      }
    },
    {
      "cell_type": "code",
      "execution_count": 19,
      "metadata": {
        "id": "koYSQ3n4Y4oX"
      },
      "outputs": [],
      "source": [
        "# Carregando pacotes\n",
        "import re\n",
        "import requests\n",
        "from bs4 import BeautifulSoup\n",
        "import itertools\n",
        "import pandas as pd"
      ]
    },
    {
      "cell_type": "code",
      "source": [
        "# Criando variável páginas e criando variável 'p' que será a parte final do url (o número da página)\n",
        "paginas = []\n",
        "p = 1\n",
        "\n",
        "# Criando um laço for que armazenará o url de cada página dentro da variável paginas\n",
        "for i in range(1, 51):\n",
        "    paginas.append(f'https://www.vlr.gg/matches/results/?page={p}')\n",
        "    p += 1\n",
        "\n",
        "# Variável partidas e variável c\n",
        "partidas = []\n",
        "c = 1\n",
        "\n",
        "# Função que retorna o url de cada partida\n",
        "def funcaoPagina(pagina):\n",
        "    response = requests.get(pagina)\n",
        "    soup = BeautifulSoup(response.text, 'html.parser')\n",
        "    links = soup.find_all('a')\n",
        "    partidas = [link.get('href') for link in links]\n",
        "    partidas = partidas[14:64]\n",
        "    partidas = ['https://www.vlr.gg' + partida for partida in partidas]\n",
        "    return partidas\n"
      ],
      "metadata": {
        "id": "LDrCynoIGdi4"
      },
      "execution_count": 2,
      "outputs": []
    },
    {
      "cell_type": "code",
      "source": [
        "# Criando f e uma lista que receberá todos os returns da funcaoPagina (url de cada partida)\n",
        "f = 0\n",
        "a = []\n",
        "\n",
        "# Executando um for que fará a iteração da funcaoPagina todas as vezes necessárias\n",
        "for i in paginas:\n",
        "    a.append(funcaoPagina(paginas[f]))\n",
        "    f += 1\n",
        "\n",
        "a = list(itertools.chain(*a))"
      ],
      "metadata": {
        "id": "A2fveFqIHhw3"
      },
      "execution_count": 14,
      "outputs": []
    },
    {
      "cell_type": "code",
      "source": [
        "def medias_Jogadores(url_jogador):\n",
        "    html_lido = requests.get(url_jogador).text\n",
        "    soup = BeautifulSoup(html_lido, 'html.parser')\n",
        "    dados_jogador = []\n",
        "    for table in soup.find_all('table'):\n",
        "        dados_jogador.append(table.text)\n",
        "    dados_jogador = [x.strip().split(\"\\n\") for x in dados_jogador]\n",
        "    dados_jogador = [x for x in dados_jogador if x[0] in ['Use', 'Rating', 'ACS', 'KAST', 'K:D', 'ADR']]\n",
        "    dados_jogador = [{dados_jogador[i][0]: float(dados_jogador[i][1])} for i in range(len(dados_jogador))]\n",
        "    dados_jogador = {k: v * dados_jogador[0]['Use'] for d in dados_jogador for k, v in d.items()}\n",
        "    dados_jogador = {k: round(v / dados_jogador['Use'], 2) for k, v in dados_jogador.items()}\n",
        "    medias_jogador = dados_jogador\n",
        "    #medias_jogador['KAST'] = round(medias_jogador['KAST'], 0)\n",
        "    return medias_jogador\n"
      ],
      "metadata": {
        "id": "Ycsdls8TNxX0"
      },
      "execution_count": 27,
      "outputs": []
    },
    {
      "cell_type": "code",
      "source": [
        "def get_Ganhadores(url_partida):\n",
        "    html = requests.get(url_partida).text\n",
        "    soup = BeautifulSoup(html, 'html.parser')\n",
        "    spoilers = soup.find_all(\"div\", class_=\"js-spoiler\")\n",
        "    spoilers = [spoiler.text.strip().replace(\"\\t\", \"\").replace(\"\\n\", \"\") for spoiler in spoilers]\n",
        "    placar = \"\".join(spoilers)\n",
        "    match = re.search(\"(\\d+):(\\d+)\", placar)\n",
        "    time1, time2 = int(match.group(1)), int(match.group(2))\n",
        "    ganhador = 1 if time1 > time2 else 0\n",
        "    return ganhador\n"
      ],
      "metadata": {
        "id": "GvnU0RzwNxgy"
      },
      "execution_count": 28,
      "outputs": []
    },
    {
      "cell_type": "code",
      "source": [
        "def medias_Times(url_partida):\n",
        "  try:\n",
        "    # Pegando os dados no link da partida\n",
        "    html = requests.get(url_partida).text\n",
        "    soup = BeautifulSoup(html, 'html.parser')\n",
        "    nodes = soup.select('td.mod-player a')\n",
        "    links_jogadores = [node['href'] for node in nodes]\n",
        "\n",
        "    # Separando os nomes dos jogadores de cada time em 2 arrays\n",
        "    timeA = links_jogadores[:5]\n",
        "    timeB = links_jogadores[5:]\n",
        "\n",
        "    # Criando os links usando os nomes dos jogadores\n",
        "    timeA = ['https://www.vlr.gg/?timespan=all' + i for i in timeA]\n",
        "    timeB = ['https://www.vlr.gg/?timespan=all' + i for i in timeB]\n",
        "\n",
        "    timeA_medias = []\n",
        "    timeB_medias = []\n",
        "\n",
        "    for i in timeA:\n",
        "        timeA_medias.append(medias_Jogadores(i))\n",
        "\n",
        "    for i in timeB:\n",
        "        timeB_medias.append(medias_Jogadores(i))\n",
        "\n",
        "    print(timeA_medias)\n",
        "    print(timeB_medias)\n",
        "    # timeA_medias = pd.concat(timeA_medias, axis=1)\n",
        "    # timeB_medias = pd.concat(timeB_medias, axis=1)\n",
        "\n",
        "    timeA_medias = timeA_medias.drop('Use', axis=1)\n",
        "    timeB_medias = timeB_medias.drop('Use', axis=1)\n",
        "\n",
        "    partida = pd.concat([timeA_medias, timeB_medias], axis=1)\n",
        "\n",
        "    partida.columns = ['time1R', 'time1ACS', 'time1KAST', 'time1KD', 'time1ADR',\n",
        "                       'time2R', 'time2ACS', 'time2KAST', 'time2KD', 'time2ADR']\n",
        "\n",
        "    partida = partida[['time1R', 'time2R', 'time1ACS', 'time2ACS', 'time1KAST', 'time2KAST',\n",
        "                      'time1KD', 'time2KD', 'time1ADR', 'time2ADR']]\n",
        "\n",
        "    partida = partida.mean(axis=1).transpose()\n",
        "\n",
        "    ganhador = get_Ganhadores(url_partida)\n",
        "\n",
        "    partida['ganhador'] = ganhador\n",
        "\n",
        "    return partida\n",
        "\n",
        "  except Exception as e:\n",
        "    print('error:', e)\n"
      ],
      "metadata": {
        "id": "i1Q00J_2F4Pe"
      },
      "execution_count": 34,
      "outputs": []
    },
    {
      "cell_type": "code",
      "source": [
        "medias_Times(a[1])"
      ],
      "metadata": {
        "colab": {
          "base_uri": "https://localhost:8080/"
        },
        "id": "e_3WwIghOFHE",
        "outputId": "dd512d0c-4181-426d-de83-f4959f43cc9d"
      },
      "execution_count": 35,
      "outputs": [
        {
          "output_type": "stream",
          "name": "stdout",
          "text": [
            "[{}, {}, {}, {}, {}]\n",
            "[{}, {}, {}, {}, {}, {}, {}, {}, {}, {}, {}, {}, {}, {}, {}]\n",
            "error: 'list' object has no attribute 'drop'\n"
          ]
        }
      ]
    }
  ]
}