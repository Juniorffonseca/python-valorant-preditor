{
  "nbformat": 4,
  "nbformat_minor": 0,
  "metadata": {
    "colab": {
      "provenance": [],
      "authorship_tag": "ABX9TyP/1jUGnAzQqO4X1BvjfHDF",
      "include_colab_link": true
    },
    "kernelspec": {
      "name": "python3",
      "display_name": "Python 3"
    },
    "language_info": {
      "name": "python"
    }
  },
  "cells": [
    {
      "cell_type": "markdown",
      "metadata": {
        "id": "view-in-github",
        "colab_type": "text"
      },
      "source": [
        "<a href=\"https://colab.research.google.com/github/Juniorffonseca/python-valorant-preditor/blob/main/tcc.ipynb\" target=\"_parent\"><img src=\"https://colab.research.google.com/assets/colab-badge.svg\" alt=\"Open In Colab\"/></a>"
      ]
    },
    {
      "cell_type": "markdown",
      "source": [
        "Fazendo meu projeto do TCC, que foi feito em R, na linguagem Python.\n",
        "O projeto consiste em usar redes neurais para prever resultado de partidas do cenário profissional de Valorant\n"
      ],
      "metadata": {
        "id": "qJr7-rIdaL38"
      }
    },
    {
      "cell_type": "code",
      "execution_count": null,
      "metadata": {
        "id": "koYSQ3n4Y4oX"
      },
      "outputs": [],
      "source": [
        "# Carregando pacotes\n",
        "import numpy"
      ]
    }
  ]
}